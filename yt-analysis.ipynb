{
 "cells": [
  {
   "cell_type": "markdown",
   "metadata": {},
   "source": [
    "Accessing the YouTube Data API"
   ]
  },
  {
   "cell_type": "code",
   "execution_count": 31,
   "metadata": {},
   "outputs": [],
   "source": [
    "import os\n",
    "from apiclient.discovery import build\n",
    "\n",
    "GOOGLE_API_KEY = os.environ.get(\"GOOGLE_API_KEY\")\n",
    "youtube = build('youtube', 'v3', developerKey=GOOGLE_API_KEY)"
   ]
  },
  {
   "cell_type": "markdown",
   "metadata": {},
   "source": []
  },
  {
   "cell_type": "markdown",
   "metadata": {},
   "source": [
    "Fetching the uploads playlist-id for the channels"
   ]
  },
  {
   "cell_type": "code",
   "execution_count": 32,
   "metadata": {},
   "outputs": [],
   "source": [
    "sourav_joshi_uploads_playlist_id = youtube.channels().list(id=\"UCjvgGbPPn-FgYeguc5nxG4A\", part=\"contentDetails\").execute()[\"items\"][0][\"contentDetails\"][\"relatedPlaylists\"][\"uploads\"]\n",
    "\n",
    "flying_beast_uploads_playlist_id = youtube.channels().list(id=\"UCNSdjX4ry9fICqeObdZPAZQ\", part=\"contentDetails\").execute()[\"items\"][0][\"contentDetails\"][\"relatedPlaylists\"][\"uploads\"]\n",
    "\n",
    "mumbiker_nikhil_uploads_playlist_id = youtube.channels().list(id=\"UCNn6AaHharXIbkRleXGboiQ\", part=\"contentDetails\").execute()[\"items\"][0][\"contentDetails\"][\"relatedPlaylists\"][\"uploads\"]"
   ]
  },
  {
   "cell_type": "markdown",
   "metadata": {},
   "source": [
    "Fetch list of all videos for the channels"
   ]
  },
  {
   "cell_type": "code",
   "execution_count": 42,
   "metadata": {},
   "outputs": [
    {
     "name": "stdout",
     "output_type": "stream",
     "text": [
      "{'kind': 'youtube#videoListResponse', 'etag': 'nLfbJwLlUEpv_WptoYdni1ES6-4', 'items': [{'kind': 'youtube#video', 'etag': 'aSzMTpsXXhKxjdAEyOWfKtz3JYw', 'id': 'XcL-n3WGAmE', 'statistics': {'viewCount': '39756', 'likeCount': '8116', 'favoriteCount': '0', 'commentCount': '260'}}, {'kind': 'youtube#video', 'etag': 'sW0GNTMSdTkOFpm3KL7QWPbwYjk', 'id': '--qErGX5YkY', 'statistics': {'viewCount': '51652', 'likeCount': '4641', 'favoriteCount': '0', 'commentCount': '107'}}, {'kind': 'youtube#video', 'etag': 'kCu-3AX8UAV49DoFporvE99jncs', 'id': 'rk7axL76o5U', 'statistics': {'viewCount': '158513', 'likeCount': '12075', 'favoriteCount': '0', 'commentCount': '297'}}, {'kind': 'youtube#video', 'etag': '-LD_RrO9QjTV4kLWR3YX3rkEdGI', 'id': 'sZx5K4OH94Q', 'statistics': {'viewCount': '152275', 'likeCount': '13000', 'favoriteCount': '0', 'commentCount': '838'}}, {'kind': 'youtube#video', 'etag': 'luEcLrteGjkmLf1xUqrX9Kciwr4', 'id': 'nO9yxcJd4GY', 'statistics': {'viewCount': '201162', 'likeCount': '11983', 'favoriteCount': '0', 'commentCount': '391'}}, {'kind': 'youtube#video', 'etag': 'vBKsA2FVNIy5EVFWZoYLHhpTHuY', 'id': 'eW9YHUVA0fw', 'statistics': {'viewCount': '87561', 'likeCount': '6899', 'favoriteCount': '0', 'commentCount': '339'}}, {'kind': 'youtube#video', 'etag': 'eMq0RlHEneAekddA_U02EClMRuY', 'id': 'sIFj2N8FF3U', 'statistics': {'viewCount': '111272', 'likeCount': '8114', 'favoriteCount': '0', 'commentCount': '227'}}, {'kind': 'youtube#video', 'etag': 'TVBc-IyYgT1tOVNL4NmGS8LnPvg', 'id': 'XnuB_eCY_Ew', 'statistics': {'viewCount': '91098', 'likeCount': '8508', 'favoriteCount': '0', 'commentCount': '345'}}, {'kind': 'youtube#video', 'etag': 'PVKzwQDLRmLV89PrEjL7EjDORjI', 'id': 'U4ERoucsZVo', 'statistics': {'viewCount': '83842', 'likeCount': '7104', 'favoriteCount': '0', 'commentCount': '158'}}, {'kind': 'youtube#video', 'etag': 'KFGJGMQvrtTBsyAyS2LchJip-Ds', 'id': '4urPenNFdxE', 'statistics': {'viewCount': '126775', 'likeCount': '9688', 'favoriteCount': '0', 'commentCount': '187'}}, {'kind': 'youtube#video', 'etag': '63Kw35jDpYdUNqIx27TD6oGNHL0', 'id': 'D795zjxXe78', 'statistics': {'viewCount': '106428', 'likeCount': '7899', 'favoriteCount': '0', 'commentCount': '88'}}, {'kind': 'youtube#video', 'etag': 'gQF0i6vzqzfhDhNz2W4v6oYG_Ww', 'id': 'xXWvobBY8b4', 'statistics': {'viewCount': '71812', 'likeCount': '4758', 'favoriteCount': '0', 'commentCount': '47'}}, {'kind': 'youtube#video', 'etag': '__ZldvCLTPq2T4LLQSW1Wu4_zjE', 'id': '62Davm-8kSU', 'statistics': {'viewCount': '92863', 'likeCount': '7607', 'favoriteCount': '0', 'commentCount': '196'}}, {'kind': 'youtube#video', 'etag': 'jV8pbrlWoxqixrcHHlwy2zL33_s', 'id': 'HBh0qtCYqYM', 'statistics': {'viewCount': '133127', 'likeCount': '10393', 'favoriteCount': '0', 'commentCount': '190'}}, {'kind': 'youtube#video', 'etag': 'yd4Q_CK-lCzoj5ojoXDg3IYCM48', 'id': 'OmRMOAQLSHE', 'statistics': {'viewCount': '129580', 'likeCount': '8931', 'favoriteCount': '0', 'commentCount': '297'}}, {'kind': 'youtube#video', 'etag': 'BB6Gn-zOulKCGCf4lfq17MkIP5M', 'id': 'Zq5MswSk8EU', 'statistics': {'viewCount': '93733', 'likeCount': '8196', 'favoriteCount': '0', 'commentCount': '339'}}, {'kind': 'youtube#video', 'etag': 'fWu_n4HytFe-I-7qBKVd-Gv1I6g', 'id': 's5weIC8olVs', 'statistics': {'viewCount': '105744', 'likeCount': '8739', 'favoriteCount': '0', 'commentCount': '223'}}, {'kind': 'youtube#video', 'etag': '5TR3OZTCcon55WJB_TJ2AUurugk', 'id': '72_Rh8q8NUw', 'statistics': {'viewCount': '125740', 'likeCount': '9038', 'favoriteCount': '0', 'commentCount': '407'}}, {'kind': 'youtube#video', 'etag': 'zUdJyEGKo-VtXV1Z80ZYJiS0Lkw', 'id': 'k6MESE6IUfw', 'statistics': {'viewCount': '100250', 'likeCount': '7799', 'favoriteCount': '0', 'commentCount': '290'}}, {'kind': 'youtube#video', 'etag': 'ahoMRsniXWy7pQw-cVRb-isDhRM', 'id': 'fWpPinz0Zeg', 'statistics': {'viewCount': '120386', 'likeCount': '9150', 'favoriteCount': '0', 'commentCount': '183'}}, {'kind': 'youtube#video', 'etag': '1zyj8LPXyQNGTHPe3E-d8od_yf0', 'id': 'mYonHLpnr0c', 'statistics': {'viewCount': '131629', 'likeCount': '9513', 'favoriteCount': '0', 'commentCount': '156'}}, {'kind': 'youtube#video', 'etag': '29doKtFxePU8X_57Kdib1BzjpMU', 'id': 'V0Nep45aY-M', 'statistics': {'viewCount': '114817', 'likeCount': '8621', 'favoriteCount': '0', 'commentCount': '294'}}, {'kind': 'youtube#video', 'etag': 'qNW8QfLyDoD674eLPRU83-xCZ7Y', 'id': 't1vKqCy5pek', 'statistics': {'viewCount': '134759', 'likeCount': '10438', 'favoriteCount': '0', 'commentCount': '205'}}, {'kind': 'youtube#video', 'etag': 'KbMI4MDbrqqmp7tjX3KHpV5p07M', 'id': 'oVXhZgCv8xY', 'statistics': {'viewCount': '151848', 'likeCount': '10747', 'favoriteCount': '0', 'commentCount': '460'}}, {'kind': 'youtube#video', 'etag': 'AE10yUsg-N0H3axaLQqM7ggg4fo', 'id': 'OYLtGaiL0mg', 'statistics': {'viewCount': '215829', 'likeCount': '14592', 'favoriteCount': '0', 'commentCount': '301'}}, {'kind': 'youtube#video', 'etag': 'FeMI7RBeRjn6b-FS86m-oiufdiU', 'id': 'A0oX--2zNzw', 'statistics': {'viewCount': '281493', 'likeCount': '15212', 'favoriteCount': '0', 'commentCount': '489'}}, {'kind': 'youtube#video', 'etag': 'jtBU4pbZVnlSTcSWx5a-_7KJT2M', 'id': 'QFZJfucHXSU', 'statistics': {'viewCount': '177052', 'likeCount': '14037', 'favoriteCount': '0', 'commentCount': '505'}}, {'kind': 'youtube#video', 'etag': 'OryGUk0-hdnGrs_sCwY1WVV9qTM', 'id': 'es-hmD9coCA', 'statistics': {'viewCount': '348324', 'likeCount': '22011', 'favoriteCount': '0', 'commentCount': '860'}}, {'kind': 'youtube#video', 'etag': 'Be9XBWl-FYBnGyCVGrlRLPs0Ors', 'id': 'r6gU_nSBM48', 'statistics': {'viewCount': '198511', 'likeCount': '13897', 'favoriteCount': '0', 'commentCount': '263'}}, {'kind': 'youtube#video', 'etag': 'svMRbwk6gNx168jMFNTGZVGT4-Y', 'id': 'FilxP2_JQLA', 'statistics': {'viewCount': '119162', 'likeCount': '9165', 'favoriteCount': '0', 'commentCount': '145'}}, {'kind': 'youtube#video', 'etag': '645bdGvjvc7Nh1NzXSsNsE1_pKU', 'id': 'YQ1g1c3qccQ', 'statistics': {'viewCount': '515595', 'likeCount': '21796', 'favoriteCount': '0', 'commentCount': '64'}}, {'kind': 'youtube#video', 'etag': 'jE1eDTosdJYKumMFVSQrW8BdYW4', 'id': '8Uj248eoO0o', 'statistics': {'viewCount': '111974', 'likeCount': '9118', 'favoriteCount': '0', 'commentCount': '321'}}, {'kind': 'youtube#video', 'etag': 'gjkSiS9LDyGWtOCkbOmN1Vpwsug', 'id': 'h44z3VWPWG4', 'statistics': {'viewCount': '247192', 'likeCount': '20051', 'favoriteCount': '0', 'commentCount': '1994'}}, {'kind': 'youtube#video', 'etag': 'vyGML1wNZXuk23qXW9mSntV9Lno', 'id': 'kpH6OZjeeP4', 'statistics': {'viewCount': '123477', 'likeCount': '9261', 'favoriteCount': '0', 'commentCount': '189'}}, {'kind': 'youtube#video', 'etag': 'bJdpqNsyEJeAfTlfvvyPxttgyp0', 'id': 'XtQCDNLrcm8', 'statistics': {'viewCount': '161848', 'likeCount': '10430', 'favoriteCount': '0', 'commentCount': '215'}}, {'kind': 'youtube#video', 'etag': 's2its3CZ95PLAKIVGsLl3SNHdf0', 'id': 'dT4Jb00hxVQ', 'statistics': {'viewCount': '130575', 'likeCount': '10925', 'favoriteCount': '0', 'commentCount': '502'}}, {'kind': 'youtube#video', 'etag': 'qSE4gTMi_2q3_UK3PqkJRvuRnwA', 'id': 'W4Pu9eWkrRY', 'statistics': {'viewCount': '104766', 'likeCount': '8857', 'favoriteCount': '0', 'commentCount': '150'}}, {'kind': 'youtube#video', 'etag': 'QtNKXRtZ-6NussdkFZ_l7fIzNL4', 'id': '6KT9Ina7hR4', 'statistics': {'viewCount': '127377', 'likeCount': '10857', 'favoriteCount': '0', 'commentCount': '447'}}, {'kind': 'youtube#video', 'etag': 'aOOCmmL3vZAWCBCep3ZLYQehz5w', 'id': 'lg8M0Axz-YA', 'statistics': {'viewCount': '123383', 'likeCount': '10450', 'favoriteCount': '0', 'commentCount': '237'}}, {'kind': 'youtube#video', 'etag': 'ShzvTDxABv_uMDC2WunkYM7XWbA', 'id': 'L2wWu5cRfoM', 'statistics': {'viewCount': '191573', 'likeCount': '11054', 'favoriteCount': '0', 'commentCount': '158'}}, {'kind': 'youtube#video', 'etag': 'quA-d6Lp953gz8ayM18NejmNna0', 'id': 'FNyhJCduWyE', 'statistics': {'viewCount': '148975', 'likeCount': '11101', 'favoriteCount': '0', 'commentCount': '172'}}, {'kind': 'youtube#video', 'etag': 'NYX43AHDzfkdEeg30Ugd4ZEqpjY', 'id': 'eHTEPPXwS6I', 'statistics': {'viewCount': '187011', 'likeCount': '13355', 'favoriteCount': '0', 'commentCount': '265'}}, {'kind': 'youtube#video', 'etag': 'jZo9_N95PMZNTHfH9wdKg5lXzZ0', 'id': 'Xg7W_wfPp6g', 'statistics': {'viewCount': '138248', 'likeCount': '10731', 'favoriteCount': '0', 'commentCount': '127'}}, {'kind': 'youtube#video', 'etag': 'mzYKCFbcb_2JQuxAfi8MwcqdzS0', 'id': 'W5Zfi0FyuPU', 'statistics': {'viewCount': '164047', 'likeCount': '11341', 'favoriteCount': '0', 'commentCount': '179'}}, {'kind': 'youtube#video', 'etag': '0biFAXhq8JkrCqS59vy9RvVuLdE', 'id': 'XO1Oe-Qf9uM', 'statistics': {'viewCount': '251842', 'likeCount': '15846', 'favoriteCount': '0', 'commentCount': '331'}}, {'kind': 'youtube#video', 'etag': 'djEJ9tvuk0-2lV4ngObeQcTqB7Y', 'id': 'X2MjVs6wm8E', 'statistics': {'viewCount': '116325', 'likeCount': '9543', 'favoriteCount': '0', 'commentCount': '123'}}, {'kind': 'youtube#video', 'etag': 'q26y_-r_ZthO4tD47ddGlC_Mo6o', 'id': 'qYDoAYuqjlA', 'statistics': {'viewCount': '176042', 'likeCount': '11717', 'favoriteCount': '0', 'commentCount': '283'}}, {'kind': 'youtube#video', 'etag': 'Ho44ofKYiTRrlM6uinohvQnn9Pg', 'id': 'XeqOVtbDD_g', 'statistics': {'viewCount': '108192', 'likeCount': '9483', 'favoriteCount': '0', 'commentCount': '254'}}, {'kind': 'youtube#video', 'etag': 'vUHnlZrbvC6KH1Fgf0ppqQHk1jE', 'id': 'lhgJyP8UIAA', 'statistics': {'viewCount': '122645', 'likeCount': '11056', 'favoriteCount': '0', 'commentCount': '346'}}, {'kind': 'youtube#video', 'etag': 'cNyhlMWykrn6vYBvnywqh5itVlk', 'id': 'ftRexaj0w6U', 'statistics': {'viewCount': '140372', 'likeCount': '14530', 'favoriteCount': '0', 'commentCount': '1185'}}], 'pageInfo': {'totalResults': 50, 'resultsPerPage': 50}}\n"
     ]
    }
   ],
   "source": [
    "# Sourav Joshi\n",
    "sourav_joshi_videos_list = youtube.playlistItems().list(playlistId=sourav_joshi_uploads_playlist_id, part=\"contentDetails\", maxResults=1626).execute()\n",
    "\n",
    "sourav_joshi_video_ids = [video[\"contentDetails\"][\"videoId\"] for video in sourav_joshi_videos_list[\"items\"]]\n",
    "\n",
    "sourav_joshi_video_ids = \",\".join(sourav_joshi_video_ids)\n",
    "\n",
    "sourav_joshi_videos_stats = youtube.videos().list(id=sourav_joshi_video_ids, part=\"statistics\").execute()\n",
    "\n",
    "# Flying Beast\n",
    "flying_beast_videos_list = youtube.playlistItems().list(playlistId=flying_beast_uploads_playlist_id, part=\"contentDetails\", maxResults=1626).execute()\n",
    "\n",
    "flying_beast_video_ids = [video[\"contentDetails\"][\"videoId\"] for video in flying_beast_videos_list[\"items\"]]\n",
    "\n",
    "flying_beast_video_ids = \",\".join(flying_beast_video_ids)\n",
    "\n",
    "flying_beast_videos_stats = youtube.videos().list(id=flying_beast_video_ids, part=\"statistics\").execute()\n",
    "\n",
    "# Mumbiker Nikhil\n",
    "mumbiker_nikhil_videos_list = youtube.playlistItems().list(playlistId=mumbiker_nikhil_uploads_playlist_id, part=\"contentDetails\", maxResults=1626).execute()\n",
    "\n",
    "mumbiker_nikhil_video_ids = [video[\"contentDetails\"][\"videoId\"] for video in mumbiker_nikhil_videos_list[\"items\"]]\n",
    "\n",
    "mumbiker_nikhil_video_ids = \",\".join(mumbiker_nikhil_video_ids)\n",
    "\n",
    "mumbiker_nikhil_videos_stats = youtube.videos().list(id=mumbiker_nikhil_video_ids, part=\"statistics\").execute()\n",
    "\n",
    "print(mumbiker_nikhil_videos_stats)"
   ]
  }
 ],
 "metadata": {
  "kernelspec": {
   "display_name": "Python 3",
   "language": "python",
   "name": "python3"
  },
  "language_info": {
   "codemirror_mode": {
    "name": "ipython",
    "version": 3
   },
   "file_extension": ".py",
   "mimetype": "text/x-python",
   "name": "python",
   "nbconvert_exporter": "python",
   "pygments_lexer": "ipython3",
   "version": "3.11.8"
  }
 },
 "nbformat": 4,
 "nbformat_minor": 2
}
