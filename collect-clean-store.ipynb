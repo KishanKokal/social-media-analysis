{
 "cells": [
  {
   "cell_type": "markdown",
   "metadata": {},
   "source": [
    "Accessing the YouTube Data API"
   ]
  },
  {
   "cell_type": "code",
   "execution_count": 75,
   "metadata": {},
   "outputs": [],
   "source": [
    "import os\n",
    "from apiclient.discovery import build\n",
    "import json\n",
    "\n",
    "GOOGLE_API_KEY = os.environ.get(\"GOOGLE_API_KEY\")\n",
    "youtube = build('youtube', 'v3', developerKey=GOOGLE_API_KEY)"
   ]
  },
  {
   "cell_type": "markdown",
   "metadata": {},
   "source": []
  },
  {
   "cell_type": "markdown",
   "metadata": {},
   "source": [
    "Fetching the uploads playlist-id for the channels"
   ]
  },
  {
   "cell_type": "code",
   "execution_count": 76,
   "metadata": {},
   "outputs": [],
   "source": [
    "sourav_joshi_uploads_playlist_id = youtube.channels().list(id=\"UCjvgGbPPn-FgYeguc5nxG4A\", part=\"contentDetails\").execute()[\"items\"][0][\"contentDetails\"][\"relatedPlaylists\"][\"uploads\"]\n",
    "\n",
    "flying_beast_uploads_playlist_id = youtube.channels().list(id=\"UCNSdjX4ry9fICqeObdZPAZQ\", part=\"contentDetails\").execute()[\"items\"][0][\"contentDetails\"][\"relatedPlaylists\"][\"uploads\"]\n",
    "\n",
    "mumbiker_nikhil_uploads_playlist_id = youtube.channels().list(id=\"UCNn6AaHharXIbkRleXGboiQ\", part=\"contentDetails\").execute()[\"items\"][0][\"contentDetails\"][\"relatedPlaylists\"][\"uploads\"]"
   ]
  },
  {
   "cell_type": "markdown",
   "metadata": {},
   "source": [
    "Fetch list of all videos for the channels"
   ]
  },
  {
   "cell_type": "code",
   "execution_count": 77,
   "metadata": {},
   "outputs": [
    {
     "name": "stdout",
     "output_type": "stream",
     "text": [
      "{'kind': 'youtube#playlistItemListResponse', 'etag': 'pVfbEoplxUrSncBwrY4c8v0NxX0', 'nextPageToken': 'EAAafVBUOkNESWlFRGRDUTBNM1F6aEZRekJFTlRBNU1UWW9BVWk0M1BDRG9QaUVBMUFCV2pnaVEyaG9WbFpYY0RKYU1HUnBWVVpDZFV4VldtNVhWMVp1WkZkTk1XSnVhRWhPUlVWVFJFRnFNR3RrVjNaQ2FFUkJhR1pFVmtGM0ln', 'items': [{'kind': 'youtube#playlistItem', 'etag': '7Vfxz2Iz7vMBfccgkqNFfKGFjOI', 'id': 'VVVqdmdHYlBQbi1GZ1llZ3VjNW54RzRBLi1rYTBJUzBURjFZ', 'contentDetails': {'videoId': '-ka0IS0TF1Y', 'videoPublishedAt': '2024-03-16T02:30:00Z'}}, {'kind': 'youtube#playlistItem', 'etag': '6hrCfb_1RVvkuJwNcUZsbA6aPuI', 'id': 'VVVqdmdHYlBQbi1GZ1llZ3VjNW54RzRBLjNPdWlGeGJYYU5v', 'contentDetails': {'videoId': '3OuiFxbXaNo', 'videoPublishedAt': '2024-03-15T03:28:59Z'}}, {'kind': 'youtube#playlistItem', 'etag': 'hzO27lspGvvSqWs39jB8XvGeldU', 'id': 'VVVqdmdHYlBQbi1GZ1llZ3VjNW54RzRBLi1qeFJDTkdla2NJ', 'contentDetails': {'videoId': '-jxRCNGekcI', 'videoPublishedAt': '2024-03-14T02:30:00Z'}}, {'kind': 'youtube#playlistItem', 'etag': 'GiXWl8kouSN9bcezg0c7MmQMdsI', 'id': 'VVVqdmdHYlBQbi1GZ1llZ3VjNW54RzRBLmlBLVB0eW5kbmdv', 'contentDetails': {'videoId': 'iA-Ptyndngo', 'videoPublishedAt': '2024-03-13T02:30:30Z'}}, {'kind': 'youtube#playlistItem', 'etag': 'RDkTpKl_t4EH1jjq_5jU6Vg0Z9g', 'id': 'VVVqdmdHYlBQbi1GZ1llZ3VjNW54RzRBLjhBV1FjaUFoSGpF', 'contentDetails': {'videoId': '8AWQciAhHjE', 'videoPublishedAt': '2024-03-12T02:30:06Z'}}, {'kind': 'youtube#playlistItem', 'etag': 'yZbsBxIOC30GB2p6HDELtgOHhSM', 'id': 'VVVqdmdHYlBQbi1GZ1llZ3VjNW54RzRBLi1keTVvT0JLcWpn', 'contentDetails': {'videoId': '-dy5oOBKqjg', 'videoPublishedAt': '2024-03-11T02:30:00Z'}}, {'kind': 'youtube#playlistItem', 'etag': 'ztAx0vuzUL9cP1KbB9oFojYJMoY', 'id': 'VVVqdmdHYlBQbi1GZ1llZ3VjNW54RzRBLnFVckxYVnhHSy13', 'contentDetails': {'videoId': 'qUrLXVxGK-w', 'videoPublishedAt': '2024-03-10T02:30:31Z'}}, {'kind': 'youtube#playlistItem', 'etag': 'lzIlcD3zmGYvhWHavlvck-XIX6k', 'id': 'VVVqdmdHYlBQbi1GZ1llZ3VjNW54RzRBLkw1dG9ZcXEwMG1n', 'contentDetails': {'videoId': 'L5toYqq00mg', 'videoPublishedAt': '2024-03-09T02:30:11Z'}}, {'kind': 'youtube#playlistItem', 'etag': 'ATmTCoWQZ3CR01u1fKJX-4Ti8dM', 'id': 'VVVqdmdHYlBQbi1GZ1llZ3VjNW54RzRBLm9HU25FaDhxeGpV', 'contentDetails': {'videoId': 'oGSnEh8qxjU', 'videoPublishedAt': '2024-03-08T02:30:32Z'}}, {'kind': 'youtube#playlistItem', 'etag': 'TN5XUW1Q7GpPcQh6z3LBdJQFgyE', 'id': 'VVVqdmdHYlBQbi1GZ1llZ3VjNW54RzRBLjhHbmdZSUpOb0VJ', 'contentDetails': {'videoId': '8GngYIJNoEI', 'videoPublishedAt': '2024-03-07T02:30:03Z'}}, {'kind': 'youtube#playlistItem', 'etag': 'tG-L12aZQUDhSPpvIq_BrbP39Jc', 'id': 'VVVqdmdHYlBQbi1GZ1llZ3VjNW54RzRBLnc4MnVsSmZPRG1v', 'contentDetails': {'videoId': 'w82ulJfODmo', 'videoPublishedAt': '2024-03-06T02:30:23Z'}}, {'kind': 'youtube#playlistItem', 'etag': 'V69FXaQ712HkChHcX3HqKWbGXXg', 'id': 'VVVqdmdHYlBQbi1GZ1llZ3VjNW54RzRBLk9CQ3FrM0NkY1Bv', 'contentDetails': {'videoId': 'OBCqk3CdcPo', 'videoPublishedAt': '2024-03-05T02:30:10Z'}}, {'kind': 'youtube#playlistItem', 'etag': 'e2oWws87XyRbB23wHfkAxXHsHCs', 'id': 'VVVqdmdHYlBQbi1GZ1llZ3VjNW54RzRBLkhwZVdIMWFHTm1B', 'contentDetails': {'videoId': 'HpeWH1aGNmA', 'videoPublishedAt': '2024-03-04T02:30:07Z'}}, {'kind': 'youtube#playlistItem', 'etag': 'anHYz-NdCdBFxpxuevS2BVpF91k', 'id': 'VVVqdmdHYlBQbi1GZ1llZ3VjNW54RzRBLk5OcUhVbkgtWVBn', 'contentDetails': {'videoId': 'NNqHUnH-YPg', 'videoPublishedAt': '2024-03-03T02:30:10Z'}}, {'kind': 'youtube#playlistItem', 'etag': '4XhtB7YNB1ZvhNmbm9MiFP_xvjY', 'id': 'VVVqdmdHYlBQbi1GZ1llZ3VjNW54RzRBLmRDd2NpQnh0RkhZ', 'contentDetails': {'videoId': 'dCwciBxtFHY', 'videoPublishedAt': '2024-03-02T02:30:30Z'}}, {'kind': 'youtube#playlistItem', 'etag': '9IGbI_ip4P-fe3QpWfFbDkkGGcY', 'id': 'VVVqdmdHYlBQbi1GZ1llZ3VjNW54RzRBLjFpZXFWQUF5UjQ4', 'contentDetails': {'videoId': '1ieqVAAyR48', 'videoPublishedAt': '2024-03-01T02:30:02Z'}}, {'kind': 'youtube#playlistItem', 'etag': 'DsnZLUwwTaLsYydPtQPzXwUKEnw', 'id': 'VVVqdmdHYlBQbi1GZ1llZ3VjNW54RzRBLnNPc29obTJsdWlJ', 'contentDetails': {'videoId': 'sOsohm2luiI', 'videoPublishedAt': '2024-02-29T02:30:32Z'}}, {'kind': 'youtube#playlistItem', 'etag': 'p9e01Liun9itHbz3J12hFylUDZ4', 'id': 'VVVqdmdHYlBQbi1GZ1llZ3VjNW54RzRBLlFFSFl6V1Z4Zjgw', 'contentDetails': {'videoId': 'QEHYzWVxf80', 'videoPublishedAt': '2024-02-28T02:30:14Z'}}, {'kind': 'youtube#playlistItem', 'etag': 'VaPTgQ1dbPf4ivkQqLFeo_bAjGw', 'id': 'VVVqdmdHYlBQbi1GZ1llZ3VjNW54RzRBLkw0amEzU1NXS2NB', 'contentDetails': {'videoId': 'L4ja3SSWKcA', 'videoPublishedAt': '2024-02-27T02:30:09Z'}}, {'kind': 'youtube#playlistItem', 'etag': 'TGKAFAQfb9GxtLcGnvUiRRUPkkQ', 'id': 'VVVqdmdHYlBQbi1GZ1llZ3VjNW54RzRBLklSeW5LSURlNE1Z', 'contentDetails': {'videoId': 'IRynKIDe4MY', 'videoPublishedAt': '2024-02-26T02:30:15Z'}}, {'kind': 'youtube#playlistItem', 'etag': 'zqZUmF8Mko4V-ilg3w_coavOUTA', 'id': 'VVVqdmdHYlBQbi1GZ1llZ3VjNW54RzRBLmxmVnVtQzUtVU9J', 'contentDetails': {'videoId': 'lfVumC5-UOI', 'videoPublishedAt': '2024-02-25T02:30:18Z'}}, {'kind': 'youtube#playlistItem', 'etag': 'GRFQjH25HNmXfXDgrotncCO9w1s', 'id': 'VVVqdmdHYlBQbi1GZ1llZ3VjNW54RzRBLnNUWS1QZWVCa1E0', 'contentDetails': {'videoId': 'sTY-PeeBkQ4', 'videoPublishedAt': '2024-02-24T02:30:23Z'}}, {'kind': 'youtube#playlistItem', 'etag': 'R23bRJ3BBENy79h_DwCsM5l0XRA', 'id': 'VVVqdmdHYlBQbi1GZ1llZ3VjNW54RzRBLlNUbmt5RHl4SEhv', 'contentDetails': {'videoId': 'STnkyDyxHHo', 'videoPublishedAt': '2024-02-23T02:30:10Z'}}, {'kind': 'youtube#playlistItem', 'etag': 'MiUUjSdu_M2hyJAgZ5p7-UdnLiw', 'id': 'VVVqdmdHYlBQbi1GZ1llZ3VjNW54RzRBLno5YUF2YWlUQlRn', 'contentDetails': {'videoId': 'z9aAvaiTBTg', 'videoPublishedAt': '2024-02-22T02:30:32Z'}}, {'kind': 'youtube#playlistItem', 'etag': 'uGm8y5i0Bx7LaPg1buhAsETdEhI', 'id': 'VVVqdmdHYlBQbi1GZ1llZ3VjNW54RzRBLkRpbmc5SHFtZ0hr', 'contentDetails': {'videoId': 'Ding9HqmgHk', 'videoPublishedAt': '2024-02-21T02:30:10Z'}}, {'kind': 'youtube#playlistItem', 'etag': 'siTT-z4SRilcem5hfU0hu6E6Bg0', 'id': 'VVVqdmdHYlBQbi1GZ1llZ3VjNW54RzRBLnZ5SGN1aEdoUEpz', 'contentDetails': {'videoId': 'vyHcuhGhPJs', 'videoPublishedAt': '2024-02-20T02:30:24Z'}}, {'kind': 'youtube#playlistItem', 'etag': 'lbUsZIAIm06Z8VDDq-_xSMwbbXE', 'id': 'VVVqdmdHYlBQbi1GZ1llZ3VjNW54RzRBLlhiRXByU0tRbXpJ', 'contentDetails': {'videoId': 'XbEprSKQmzI', 'videoPublishedAt': '2024-02-19T02:30:15Z'}}, {'kind': 'youtube#playlistItem', 'etag': 'kh6Cy6JCI5r1ITq3CFNSQJMFq2M', 'id': 'VVVqdmdHYlBQbi1GZ1llZ3VjNW54RzRBLnJicGZtdnhFOFFz', 'contentDetails': {'videoId': 'rbpfmvxE8Qs', 'videoPublishedAt': '2024-02-18T02:30:33Z'}}, {'kind': 'youtube#playlistItem', 'etag': 'mA4sKubGapRvQdUMcYzrqG5r1Zc', 'id': 'VVVqdmdHYlBQbi1GZ1llZ3VjNW54RzRBLkxVSWttTHdwaFpZ', 'contentDetails': {'videoId': 'LUIkmLwphZY', 'videoPublishedAt': '2024-02-17T02:30:14Z'}}, {'kind': 'youtube#playlistItem', 'etag': 'IKdj6ogeDi43NXgoO1pX9rdhQAA', 'id': 'VVVqdmdHYlBQbi1GZ1llZ3VjNW54RzRBLnI4eUdZelF6Z3A4', 'contentDetails': {'videoId': 'r8yGYzQzgp8', 'videoPublishedAt': '2024-02-16T02:30:32Z'}}, {'kind': 'youtube#playlistItem', 'etag': 'TUgHqMvaqbeEzbpnPvDAE0NJ6ms', 'id': 'VVVqdmdHYlBQbi1GZ1llZ3VjNW54RzRBLm1iYklIbEVNcVY4', 'contentDetails': {'videoId': 'mbbIHlEMqV8', 'videoPublishedAt': '2024-02-15T02:30:20Z'}}, {'kind': 'youtube#playlistItem', 'etag': 'BIk-XgxTn1rK0Ilf_3ZUgFGvAXw', 'id': 'VVVqdmdHYlBQbi1GZ1llZ3VjNW54RzRBLllVU3htdFo4R0xr', 'contentDetails': {'videoId': 'YUSxmtZ8GLk', 'videoPublishedAt': '2024-02-14T02:30:27Z'}}, {'kind': 'youtube#playlistItem', 'etag': '8PhaM7JYs4hxeMq48hql-kLeTWY', 'id': 'VVVqdmdHYlBQbi1GZ1llZ3VjNW54RzRBLllZd2xkOXhyY080', 'contentDetails': {'videoId': 'YYwld9xrcO4', 'videoPublishedAt': '2024-02-13T02:30:25Z'}}, {'kind': 'youtube#playlistItem', 'etag': 'HGRcj1jZ5dU75xpJzSnhKKd_l1E', 'id': 'VVVqdmdHYlBQbi1GZ1llZ3VjNW54RzRBLkhkS1ZYWjliN0x3', 'contentDetails': {'videoId': 'HdKVXZ9b7Lw', 'videoPublishedAt': '2024-02-12T02:30:07Z'}}, {'kind': 'youtube#playlistItem', 'etag': 'eU2kvc5BoTzyCxLc7_k6a4IuD2U', 'id': 'VVVqdmdHYlBQbi1GZ1llZ3VjNW54RzRBLkdUM3FQZ0RhVmd3', 'contentDetails': {'videoId': 'GT3qPgDaVgw', 'videoPublishedAt': '2024-02-11T02:30:12Z'}}, {'kind': 'youtube#playlistItem', 'etag': 'n0wW6X5V6-H4EU-riWO8dW0Gkgg', 'id': 'VVVqdmdHYlBQbi1GZ1llZ3VjNW54RzRBLkZfc0JiSEduZVJF', 'contentDetails': {'videoId': 'F_sBbHGneRE', 'videoPublishedAt': '2024-02-10T02:30:07Z'}}, {'kind': 'youtube#playlistItem', 'etag': 'b2x2XIG7s2bTA8ozWXc4j-nxkpA', 'id': 'VVVqdmdHYlBQbi1GZ1llZ3VjNW54RzRBLkc2RG1LTGZUdmhN', 'contentDetails': {'videoId': 'G6DmKLfTvhM', 'videoPublishedAt': '2024-02-09T02:30:07Z'}}, {'kind': 'youtube#playlistItem', 'etag': 'S8Nbg5WQNfODLOxQs5JPfbGFFoo', 'id': 'VVVqdmdHYlBQbi1GZ1llZ3VjNW54RzRBLlR4ZmZ2eU1ZUWpn', 'contentDetails': {'videoId': 'TxffvyMYQjg', 'videoPublishedAt': '2024-02-08T02:30:15Z'}}, {'kind': 'youtube#playlistItem', 'etag': '0_94Ndt-IpE20QmhVjswAXpi5wA', 'id': 'VVVqdmdHYlBQbi1GZ1llZ3VjNW54RzRBLnZ5Z3pEMFF3a1E0', 'contentDetails': {'videoId': 'vygzD0QwkQ4', 'videoPublishedAt': '2024-02-07T02:30:23Z'}}, {'kind': 'youtube#playlistItem', 'etag': 'fsGSsZHScNeHUrzmcRe3HYkeLHY', 'id': 'VVVqdmdHYlBQbi1GZ1llZ3VjNW54RzRBLkJfRm9XYWczeWhj', 'contentDetails': {'videoId': 'B_FoWag3yhc', 'videoPublishedAt': '2024-02-06T02:30:07Z'}}, {'kind': 'youtube#playlistItem', 'etag': 'wCXgBLvGiBKHFH__YEilJpX7u8A', 'id': 'VVVqdmdHYlBQbi1GZ1llZ3VjNW54RzRBLjVJUXZaSTJvbUZz', 'contentDetails': {'videoId': '5IQvZI2omFs', 'videoPublishedAt': '2024-02-05T02:30:05Z'}}, {'kind': 'youtube#playlistItem', 'etag': 'utvBemgDXwMPP8CWMb9n5K2IBDY', 'id': 'VVVqdmdHYlBQbi1GZ1llZ3VjNW54RzRBLkNtdlJsYTVmUzZ3', 'contentDetails': {'videoId': 'CmvRla5fS6w', 'videoPublishedAt': '2024-02-04T02:30:07Z'}}, {'kind': 'youtube#playlistItem', 'etag': 'Kr_uIoavxjbrgFXeCWpDdrFRl-8', 'id': 'VVVqdmdHYlBQbi1GZ1llZ3VjNW54RzRBLnlpdU5QLTZBQU1V', 'contentDetails': {'videoId': 'yiuNP-6AAMU', 'videoPublishedAt': '2024-02-03T02:30:34Z'}}, {'kind': 'youtube#playlistItem', 'etag': 'Sg9hzNUn6FYaSaZtnbCfdsOGmRc', 'id': 'VVVqdmdHYlBQbi1GZ1llZ3VjNW54RzRBLk1YSWl0T2pWNXdB', 'contentDetails': {'videoId': 'MXIitOjV5wA', 'videoPublishedAt': '2024-02-02T02:30:11Z'}}, {'kind': 'youtube#playlistItem', 'etag': 'DqtFj-w0WG2vqf0wvqJWlrZ4HsE', 'id': 'VVVqdmdHYlBQbi1GZ1llZ3VjNW54RzRBLndPRDlCR1RaTGFV', 'contentDetails': {'videoId': 'wOD9BGTZLaU', 'videoPublishedAt': '2024-02-01T02:30:26Z'}}, {'kind': 'youtube#playlistItem', 'etag': '30mAgsRqK1IyDRgHBZStk0Yivn0', 'id': 'VVVqdmdHYlBQbi1GZ1llZ3VjNW54RzRBLkpmbF9QQjBvQUJj', 'contentDetails': {'videoId': 'Jfl_PB0oABc', 'videoPublishedAt': '2024-01-31T02:30:10Z'}}, {'kind': 'youtube#playlistItem', 'etag': 'cNjdx5C8d9eKzN2BuQM-0rEesP4', 'id': 'VVVqdmdHYlBQbi1GZ1llZ3VjNW54RzRBLkliQVBEVkVfMFZ3', 'contentDetails': {'videoId': 'IbAPDVE_0Vw', 'videoPublishedAt': '2024-01-30T02:30:08Z'}}, {'kind': 'youtube#playlistItem', 'etag': 'RILLIJ-homLMv9MwQoLAU1Uk-kU', 'id': 'VVVqdmdHYlBQbi1GZ1llZ3VjNW54RzRBLklpNVFURlV1MVA0', 'contentDetails': {'videoId': 'Ii5QTFUu1P4', 'videoPublishedAt': '2024-01-29T02:30:08Z'}}, {'kind': 'youtube#playlistItem', 'etag': '0cySr5IN409oKelDkISGZN5oQKM', 'id': 'VVVqdmdHYlBQbi1GZ1llZ3VjNW54RzRBLjU5MkxNMHY1VGU0', 'contentDetails': {'videoId': '592LM0v5Te4', 'videoPublishedAt': '2024-01-28T02:30:05Z'}}, {'kind': 'youtube#playlistItem', 'etag': '4LdcC3Z2eFfwgCkne4UquLwWiOo', 'id': 'VVVqdmdHYlBQbi1GZ1llZ3VjNW54RzRBLlZQS2dsSWRuWFRz', 'contentDetails': {'videoId': 'VPKglIdnXTs', 'videoPublishedAt': '2024-01-27T02:30:23Z'}}], 'pageInfo': {'totalResults': 1625, 'resultsPerPage': 50}}\n"
     ]
    }
   ],
   "source": [
    "# Sourav Joshi\n",
    "sourav_joshi_videos_list = youtube.playlistItems().list(playlistId=sourav_joshi_uploads_playlist_id, part=\"contentDetails\", maxResults=1626).execute()\n",
    "sourav_joshi_video_ids = [video[\"contentDetails\"][\"videoId\"] for video in sourav_joshi_videos_list[\"items\"]]\n",
    "sourav_joshi_video_ids = \",\".join(sourav_joshi_video_ids)\n",
    "sourav_joshi_videos_stats = youtube.videos().list(id=sourav_joshi_video_ids, part=\"statistics\").execute()\n",
    "print(sourav_joshi_videos_list)\n",
    "\n",
    "# Flying Beast\n",
    "flying_beast_videos_list = youtube.playlistItems().list(playlistId=flying_beast_uploads_playlist_id, part=\"contentDetails\", maxResults=1626).execute()\n",
    "flying_beast_video_ids = [video[\"contentDetails\"][\"videoId\"] for video in flying_beast_videos_list[\"items\"]]\n",
    "flying_beast_video_ids = \",\".join(flying_beast_video_ids)\n",
    "flying_beast_videos_stats = youtube.videos().list(id=flying_beast_video_ids, part=\"statistics\").execute()\n",
    "\n",
    "# Mumbiker Nikhil\n",
    "mumbiker_nikhil_videos_list = youtube.playlistItems().list(playlistId=mumbiker_nikhil_uploads_playlist_id, part=\"contentDetails\", maxResults=1626).execute()\n",
    "mumbiker_nikhil_video_ids = [video[\"contentDetails\"][\"videoId\"] for video in mumbiker_nikhil_videos_list[\"items\"]]\n",
    "mumbiker_nikhil_video_ids = \",\".join(mumbiker_nikhil_video_ids)\n",
    "mumbiker_nikhil_videos_stats = youtube.videos().list(id=mumbiker_nikhil_video_ids, part=\"statistics\").execute()"
   ]
  },
  {
   "cell_type": "code",
   "execution_count": 78,
   "metadata": {},
   "outputs": [],
   "source": [
    "sourav_joshi_videos = youtube.playlistItems().list(playlistId=sourav_joshi_uploads_playlist_id, part=\"snippet,contentDetails\", maxResults=1626).execute()\n",
    "\n",
    "sourav_joshi_data = []\n",
    "sourav_joshi_videos_stats_dict = {}\n",
    "for video_stats in sourav_joshi_videos_stats[\"items\"]:\n",
    "    sourav_joshi_videos_stats_dict[video_stats[\"id\"]] = video_stats[\"statistics\"]\n",
    "\n",
    "for video in sourav_joshi_videos[\"items\"]:\n",
    "    sourav_joshi_data.append({\n",
    "        \"title\": video[\"snippet\"][\"title\"],\n",
    "        \"video_id\": video[\"snippet\"][\"resourceId\"][\"videoId\"],\n",
    "        \"published_at\": video[\"snippet\"][\"publishedAt\"],\n",
    "        \"stats\": sourav_joshi_videos_stats_dict[video[\"snippet\"][\"resourceId\"][\"videoId\"]]\n",
    "    })\n",
    "\n",
    "with open(\"sourav_joshi_data.json\", \"w\") as f:\n",
    "    json.dump(sourav_joshi_data, f)\n",
    "\n",
    "flying_beast_videos = youtube.playlistItems().list(playlistId=flying_beast_uploads_playlist_id, part=\"snippet,contentDetails\", maxResults=1626).execute()\n",
    "\n",
    "flying_beast_data = []\n",
    "flying_beast_videos_stats_dict = {}\n",
    "for video_stats in flying_beast_videos_stats[\"items\"]:\n",
    "    flying_beast_videos_stats_dict[video_stats[\"id\"]] = video_stats[\"statistics\"]\n",
    "\n",
    "for video in flying_beast_videos[\"items\"]:\n",
    "    flying_beast_data.append({\n",
    "        \"title\": video[\"snippet\"][\"title\"],\n",
    "        \"video_id\": video[\"snippet\"][\"resourceId\"][\"videoId\"],\n",
    "        \"published_at\": video[\"snippet\"][\"publishedAt\"],\n",
    "        \"stats\": flying_beast_videos_stats_dict[video[\"snippet\"][\"resourceId\"][\"videoId\"]]\n",
    "    })\n",
    "\n",
    "with open(\"flying_beast_data.json\", \"w\") as f:\n",
    "    json.dump(flying_beast_data, f)\n",
    "\n",
    "mumbiker_nikhil_videos = youtube.playlistItems().list(playlistId=mumbiker_nikhil_uploads_playlist_id, part=\"snippet,contentDetails\", maxResults=1626).execute()\n",
    "\n",
    "mumbiker_nikhil_data = []\n",
    "mumbiker_nikhil_videos_stats_dict = {}\n",
    "for video_stats in mumbiker_nikhil_videos_stats[\"items\"]:\n",
    "    mumbiker_nikhil_videos_stats_dict[video_stats[\"id\"]] = video_stats[\"statistics\"]\n",
    "\n",
    "for video in mumbiker_nikhil_videos[\"items\"]:\n",
    "    mumbiker_nikhil_data.append({\n",
    "        \"title\": video[\"snippet\"][\"title\"],\n",
    "        \"video_id\": video[\"snippet\"][\"resourceId\"][\"videoId\"],\n",
    "        \"published_at\": video[\"snippet\"][\"publishedAt\"],\n",
    "        \"stats\": mumbiker_nikhil_videos_stats_dict[video[\"snippet\"][\"resourceId\"][\"videoId\"]]\n",
    "    })\n",
    "\n",
    "with open(\"mumbiker_nikhil_data.json\", \"w\") as f:\n",
    "    json.dump(mumbiker_nikhil_data, f)"
   ]
  }
 ],
 "metadata": {
  "kernelspec": {
   "display_name": "Python 3",
   "language": "python",
   "name": "python3"
  },
  "language_info": {
   "codemirror_mode": {
    "name": "ipython",
    "version": 3
   },
   "file_extension": ".py",
   "mimetype": "text/x-python",
   "name": "python",
   "nbconvert_exporter": "python",
   "pygments_lexer": "ipython3",
   "version": "3.11.8"
  }
 },
 "nbformat": 4,
 "nbformat_minor": 2
}
